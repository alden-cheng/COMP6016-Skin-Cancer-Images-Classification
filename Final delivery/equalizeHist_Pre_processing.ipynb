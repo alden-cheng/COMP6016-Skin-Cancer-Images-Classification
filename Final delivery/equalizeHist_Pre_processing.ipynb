{
  "nbformat": 4,
  "nbformat_minor": 0,
  "metadata": {
    "colab": {
      "provenance": [],
      "gpuType": "T4"
    },
    "kernelspec": {
      "name": "python3",
      "display_name": "Python 3"
    },
    "language_info": {
      "name": "python"
    },
    "accelerator": "GPU"
  },
  "cells": [
    {
      "cell_type": "code",
      "source": [
        "from google.colab import drive\n",
        "drive.mount('/content/drive/')"
      ],
      "metadata": {
        "colab": {
          "base_uri": "https://localhost:8080/"
        },
        "id": "DAsql2zpWFwh",
        "outputId": "4d4a9a6d-d708-45dc-be4b-33e7607f4d8c"
      },
      "execution_count": null,
      "outputs": [
        {
          "output_type": "stream",
          "name": "stdout",
          "text": [
            "Mounted at /content/drive/\n"
          ]
        }
      ]
    },
    {
      "cell_type": "markdown",
      "source": [
        "# equalizeHist"
      ],
      "metadata": {
        "id": "0P5nL3tgV9-3"
      }
    },
    {
      "cell_type": "code",
      "execution_count": null,
      "metadata": {
        "colab": {
          "base_uri": "https://localhost:8080/"
        },
        "id": "BE1aa0JOUAy-",
        "outputId": "f3ec3ebd-0b4a-4e48-b550-1b822f83459a"
      },
      "outputs": [
        {
          "output_type": "stream",
          "name": "stderr",
          "text": [
            "100%|██████████| 115/115 [00:08<00:00, 13.05it/s]\n",
            "100%|██████████| 327/327 [02:24<00:00,  2.26it/s]\n",
            "100%|██████████| 514/514 [00:33<00:00, 15.37it/s]\n",
            "100%|██████████| 1099/1099 [01:17<00:00, 14.25it/s]\n",
            "100%|██████████| 6705/6705 [13:58<00:00,  8.00it/s]\n",
            "100%|██████████| 142/142 [00:09<00:00, 15.48it/s]\n",
            "100%|██████████| 1113/1113 [01:24<00:00, 13.19it/s]\n"
          ]
        }
      ],
      "source": [
        "import os\n",
        "import cv2\n",
        "import numpy as np\n",
        "from tqdm import *\n",
        "\n",
        "original_image_path = '/content/drive/MyDrive/Dataset/Ham10000/ham10000'\n",
        "dst_image_path = '/content/drive/MyDrive/Dataset/Ham10000/ham10000_equalizeHist'\n",
        "\n",
        "f0 = original_image_path\n",
        "for f1 in os.listdir(f0):\n",
        "    f2 = os.path.join(f0, f1)\n",
        "    dst_folder = os.path.join(dst_image_path, f1)\n",
        "    if os.path.exists(dst_folder)==False:\n",
        "        os.makedirs(dst_folder)\n",
        "    for f3 in tqdm(os.listdir(f2)):\n",
        "        f4 = os.path.join(f2, f3)\n",
        "        orig_image = cv2.imread(f4, cv2.IMREAD_COLOR)\n",
        "        dst_path = f4.replace(original_image_path, dst_image_path)\n",
        "        # process\n",
        "        colorimage_b = cv2.equalizeHist(orig_image[:,:,0])\n",
        "        colorimage_g = cv2.equalizeHist(orig_image[:,:,1])\n",
        "        colorimage_r = cv2.equalizeHist(orig_image[:,:,2])\n",
        "        # Next we stack our equalized channels back into a single image\n",
        "        colorimage_e = np.stack((colorimage_b,colorimage_g,colorimage_r), axis=2)\n",
        "        cv2.imwrite(dst_path, colorimage_e)"
      ]
    }
  ]
}